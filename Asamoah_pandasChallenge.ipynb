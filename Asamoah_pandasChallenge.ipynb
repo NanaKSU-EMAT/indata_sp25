{
 "cells": [
  {
   "cell_type": "code",
   "execution_count": 11,
   "id": "a46da554-a4e4-422c-aaaa-d9c9bef0d68a",
   "metadata": {},
   "outputs": [],
   "source": [
    "import pandas as pd"
   ]
  },
  {
   "cell_type": "code",
   "execution_count": 13,
   "id": "edb1354c-fd89-4b38-9569-d509b49ca61d",
   "metadata": {},
   "outputs": [
    {
     "data": {
      "text/html": [
       "<div>\n",
       "<style scoped>\n",
       "    .dataframe tbody tr th:only-of-type {\n",
       "        vertical-align: middle;\n",
       "    }\n",
       "\n",
       "    .dataframe tbody tr th {\n",
       "        vertical-align: top;\n",
       "    }\n",
       "\n",
       "    .dataframe thead th {\n",
       "        text-align: right;\n",
       "    }\n",
       "</style>\n",
       "<table border=\"1\" class=\"dataframe\">\n",
       "  <thead>\n",
       "    <tr style=\"text-align: right;\">\n",
       "      <th></th>\n",
       "      <th>0</th>\n",
       "      <th>1</th>\n",
       "      <th>2</th>\n",
       "    </tr>\n",
       "  </thead>\n",
       "  <tbody>\n",
       "    <tr>\n",
       "      <th>0</th>\n",
       "      <td>Man City</td>\n",
       "      <td>Arsenal</td>\n",
       "      <td>Liverpool</td>\n",
       "    </tr>\n",
       "    <tr>\n",
       "      <th>1</th>\n",
       "      <td>1880</td>\n",
       "      <td>1886</td>\n",
       "      <td>1892</td>\n",
       "    </tr>\n",
       "    <tr>\n",
       "      <th>2</th>\n",
       "      <td>The Cityzens</td>\n",
       "      <td>The Gunners</td>\n",
       "      <td>YNWA</td>\n",
       "    </tr>\n",
       "  </tbody>\n",
       "</table>\n",
       "</div>"
      ],
      "text/plain": [
       "              0            1          2\n",
       "0      Man City      Arsenal  Liverpool\n",
       "1          1880         1886       1892\n",
       "2  The Cityzens  The Gunners       YNWA"
      ]
     },
     "execution_count": 13,
     "metadata": {},
     "output_type": "execute_result"
    }
   ],
   "source": [
    "a=['Man City','Arsenal','Liverpool']\n",
    "b=[1880,1886,1892]\n",
    "c=['The Cityzens','The Gunners','YNWA']\n",
    "pd.DataFrame([a,b,c])"
   ]
  },
  {
   "cell_type": "code",
   "execution_count": 32,
   "id": "f8bda1d4-df8a-41fa-b7a3-efd168f532d0",
   "metadata": {},
   "outputs": [
    {
     "data": {
      "text/html": [
       "<div>\n",
       "<style scoped>\n",
       "    .dataframe tbody tr th:only-of-type {\n",
       "        vertical-align: middle;\n",
       "    }\n",
       "\n",
       "    .dataframe tbody tr th {\n",
       "        vertical-align: top;\n",
       "    }\n",
       "\n",
       "    .dataframe thead th {\n",
       "        text-align: right;\n",
       "    }\n",
       "</style>\n",
       "<table border=\"1\" class=\"dataframe\">\n",
       "  <thead>\n",
       "    <tr style=\"text-align: right;\">\n",
       "      <th></th>\n",
       "      <th>Team</th>\n",
       "      <th>Founded</th>\n",
       "      <th>Nickname</th>\n",
       "    </tr>\n",
       "  </thead>\n",
       "  <tbody>\n",
       "    <tr>\n",
       "      <th>0</th>\n",
       "      <td>Man City</td>\n",
       "      <td>1880</td>\n",
       "      <td>The Cityzens</td>\n",
       "    </tr>\n",
       "    <tr>\n",
       "      <th>1</th>\n",
       "      <td>Arsenal</td>\n",
       "      <td>1886</td>\n",
       "      <td>The Gunners</td>\n",
       "    </tr>\n",
       "    <tr>\n",
       "      <th>2</th>\n",
       "      <td>Liverpool</td>\n",
       "      <td>1892</td>\n",
       "      <td>YNWA</td>\n",
       "    </tr>\n",
       "  </tbody>\n",
       "</table>\n",
       "</div>"
      ],
      "text/plain": [
       "        Team  Founded      Nickname\n",
       "0   Man City     1880  The Cityzens\n",
       "1    Arsenal     1886   The Gunners\n",
       "2  Liverpool     1892          YNWA"
      ]
     },
     "execution_count": 32,
     "metadata": {},
     "output_type": "execute_result"
    }
   ],
   "source": [
    "pd.DataFrame({'Team':a,'Founded':b,'Nickname':c})"
   ]
  },
  {
   "cell_type": "code",
   "execution_count": 15,
   "id": "c5849729-f8fa-400b-b77e-be8acb9a9199",
   "metadata": {},
   "outputs": [],
   "source": [
    "df=pd.DataFrame({'Team':a,'Founded':b,'Nickname':c})"
   ]
  },
  {
   "cell_type": "code",
   "execution_count": 16,
   "id": "584625ae-34d0-4b0a-a28b-c961b9cec738",
   "metadata": {},
   "outputs": [
    {
     "data": {
      "text/html": [
       "<div>\n",
       "<style scoped>\n",
       "    .dataframe tbody tr th:only-of-type {\n",
       "        vertical-align: middle;\n",
       "    }\n",
       "\n",
       "    .dataframe tbody tr th {\n",
       "        vertical-align: top;\n",
       "    }\n",
       "\n",
       "    .dataframe thead th {\n",
       "        text-align: right;\n",
       "    }\n",
       "</style>\n",
       "<table border=\"1\" class=\"dataframe\">\n",
       "  <thead>\n",
       "    <tr style=\"text-align: right;\">\n",
       "      <th></th>\n",
       "      <th>Team</th>\n",
       "      <th>Founded</th>\n",
       "      <th>Nickname</th>\n",
       "    </tr>\n",
       "  </thead>\n",
       "  <tbody>\n",
       "    <tr>\n",
       "      <th>0</th>\n",
       "      <td>Man City</td>\n",
       "      <td>1880</td>\n",
       "      <td>The Cityzens</td>\n",
       "    </tr>\n",
       "    <tr>\n",
       "      <th>1</th>\n",
       "      <td>Arsenal</td>\n",
       "      <td>1886</td>\n",
       "      <td>The Gunners</td>\n",
       "    </tr>\n",
       "    <tr>\n",
       "      <th>2</th>\n",
       "      <td>Liverpool</td>\n",
       "      <td>1892</td>\n",
       "      <td>YNWA</td>\n",
       "    </tr>\n",
       "  </tbody>\n",
       "</table>\n",
       "</div>"
      ],
      "text/plain": [
       "        Team  Founded      Nickname\n",
       "0   Man City     1880  The Cityzens\n",
       "1    Arsenal     1886   The Gunners\n",
       "2  Liverpool     1892          YNWA"
      ]
     },
     "execution_count": 16,
     "metadata": {},
     "output_type": "execute_result"
    }
   ],
   "source": [
    "df.head()"
   ]
  },
  {
   "cell_type": "code",
   "execution_count": 18,
   "id": "8f4dde98-db31-4877-8087-569fb2398643",
   "metadata": {},
   "outputs": [
    {
     "data": {
      "text/plain": [
       "RangeIndex(start=0, stop=3, step=1)"
      ]
     },
     "execution_count": 18,
     "metadata": {},
     "output_type": "execute_result"
    }
   ],
   "source": [
    "df.index"
   ]
  },
  {
   "cell_type": "code",
   "execution_count": 25,
   "id": "bfa2b0cb-c613-4280-a1e8-f56bbee41e80",
   "metadata": {},
   "outputs": [
    {
     "data": {
      "text/plain": [
       "0     Man City\n",
       "1      Arsenal\n",
       "2    Liverpool\n",
       "Name: Team, dtype: object"
      ]
     },
     "execution_count": 25,
     "metadata": {},
     "output_type": "execute_result"
    }
   ],
   "source": [
    "df[\"Team\"]"
   ]
  },
  {
   "cell_type": "code",
   "execution_count": 28,
   "id": "af69f073-d84b-4d8e-83e2-fedfed71fd24",
   "metadata": {},
   "outputs": [
    {
     "data": {
      "text/plain": [
       "Team            Man City\n",
       "Founded             1880\n",
       "Nickname    The Cityzens\n",
       "Name: 0, dtype: object"
      ]
     },
     "execution_count": 28,
     "metadata": {},
     "output_type": "execute_result"
    }
   ],
   "source": [
    "df.iloc[0]"
   ]
  },
  {
   "cell_type": "code",
   "execution_count": 47,
   "id": "9767b88e-eab4-4eae-8d27-dd9b1e81fe7e",
   "metadata": {},
   "outputs": [],
   "source": [
    "df2=pd.DataFrame({\"Team\":pd.Categorical([\"Man City\",\"Arsenal\",\"Liverpool\"]),\n",
    "                  \"Founded\":(1880,1886,1892),\n",
    "                  \"Nickname\":pd.Categorical([\"The Cityzens\",\"The Gunners\",\"YNWA\"])\n",
    "                                         }\n",
    "                )\n",
    "                  "
   ]
  },
  {
   "cell_type": "code",
   "execution_count": 48,
   "id": "24a8b11d-7bf6-4f59-b79b-357197c50938",
   "metadata": {},
   "outputs": [
    {
     "data": {
      "text/html": [
       "<div>\n",
       "<style scoped>\n",
       "    .dataframe tbody tr th:only-of-type {\n",
       "        vertical-align: middle;\n",
       "    }\n",
       "\n",
       "    .dataframe tbody tr th {\n",
       "        vertical-align: top;\n",
       "    }\n",
       "\n",
       "    .dataframe thead th {\n",
       "        text-align: right;\n",
       "    }\n",
       "</style>\n",
       "<table border=\"1\" class=\"dataframe\">\n",
       "  <thead>\n",
       "    <tr style=\"text-align: right;\">\n",
       "      <th></th>\n",
       "      <th>Team</th>\n",
       "      <th>Founded</th>\n",
       "      <th>Nickname</th>\n",
       "    </tr>\n",
       "  </thead>\n",
       "  <tbody>\n",
       "    <tr>\n",
       "      <th>0</th>\n",
       "      <td>Man City</td>\n",
       "      <td>1880</td>\n",
       "      <td>The Cityzens</td>\n",
       "    </tr>\n",
       "    <tr>\n",
       "      <th>1</th>\n",
       "      <td>Arsenal</td>\n",
       "      <td>1886</td>\n",
       "      <td>The Gunners</td>\n",
       "    </tr>\n",
       "    <tr>\n",
       "      <th>2</th>\n",
       "      <td>Liverpool</td>\n",
       "      <td>1892</td>\n",
       "      <td>YNWA</td>\n",
       "    </tr>\n",
       "  </tbody>\n",
       "</table>\n",
       "</div>"
      ],
      "text/plain": [
       "        Team  Founded      Nickname\n",
       "0   Man City     1880  The Cityzens\n",
       "1    Arsenal     1886   The Gunners\n",
       "2  Liverpool     1892          YNWA"
      ]
     },
     "execution_count": 48,
     "metadata": {},
     "output_type": "execute_result"
    }
   ],
   "source": [
    "df2"
   ]
  },
  {
   "cell_type": "code",
   "execution_count": 46,
   "id": "8dc99e97-4ad2-4912-88a6-354b19e59952",
   "metadata": {},
   "outputs": [],
   "source": [
    "df.to_csv('Asamoah_pandasChallenge.csv', index=False)"
   ]
  },
  {
   "cell_type": "markdown",
   "id": "ce3ecb6a-ec50-4fb4-9bc6-85b8ae918ed4",
   "metadata": {},
   "source": [
    "1. The write/render/evaluate loop provides creators with the opportunity to experiment with their designs, mappings and setting of rules over and over to view different outpust and filter the best choice.\n",
    "2. Processing visual information is done much faster compared to numerical data, most humans(myself included) tend to to detect patterns, trends, and relationships when presented visually, interactive charts also tend to build a story and most humans(again, including myself) better understand narratives when they are supported visually making dynamic, interactive data visualizations particularly effective for communication.\n",
    "3. Yes i agree with Murray's claim because open-source tools allow users from different backgrounds around the world to access, create and produce outputs without paying for expensive licenses, open source tools also foster a big,strong community where other users can support, improve, review and reference projects which could further refine one's skills. "
   ]
  },
  {
   "cell_type": "raw",
   "id": "599a4e8b-6d1a-46d3-9ce8-e37975addb8e",
   "metadata": {},
   "source": []
  }
 ],
 "metadata": {
  "kernelspec": {
   "display_name": "Python 3 (ipykernel)",
   "language": "python",
   "name": "python3"
  },
  "language_info": {
   "codemirror_mode": {
    "name": "ipython",
    "version": 3
   },
   "file_extension": ".py",
   "mimetype": "text/x-python",
   "name": "python",
   "nbconvert_exporter": "python",
   "pygments_lexer": "ipython3",
   "version": "3.12.8"
  }
 },
 "nbformat": 4,
 "nbformat_minor": 5
}
