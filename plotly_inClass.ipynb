{
 "cells": [
  {
   "cell_type": "code",
   "execution_count": null,
   "id": "b386acc0-d009-4624-a879-f99133670ad5",
   "metadata": {},
   "outputs": [],
   "source": [
    "import plotly.express as px\n",
    "import pandas as pd\n",
    "import json"
   ]
  },
  {
   "cell_type": "code",
   "execution_count": null,
   "id": "5bb040bb-a130-4f8c-a2f0-2b83da06930e",
   "metadata": {},
   "outputs": [],
   "source": [
    "df= pd.read_csv('archive.csv')"
   ]
  },
  {
   "cell_type": "code",
   "execution_count": null,
   "id": "6142449a-6f30-43d3-bc86-638a377bdffc",
   "metadata": {
    "scrolled": true
   },
   "outputs": [],
   "source": [
    "df.head()"
   ]
  },
  {
   "cell_type": "code",
   "execution_count": null,
   "id": "9be84353-4248-488e-84f0-0abda8beaf37",
   "metadata": {},
   "outputs": [],
   "source": [
    "fig1= px.bar(df, x='Year',y='February Average Temperature',color='Punxsutawney Phil', color_discrete_map={'No Shadow':'green','Full Shadow':'red','No Record':'blue'})\n",
    "fig2= px.bar(df, x='Year',y='March Average Temperature',color='Punxsutawney Phil', color_discrete_map={'No Shadow':'green','Full Shadow':'red','No Record':'blue'})\n",
    "\n",
    "fig1.show()\n",
    "fig2.show()"
   ]
  },
  {
   "cell_type": "code",
   "execution_count": null,
   "id": "f32cd461-4c27-49a4-8e6a-db0e02a3ad0b",
   "metadata": {},
   "outputs": [],
   "source": [
    "fig1=  px.bar(df, x='Year',y='February Average Temperature',\n",
    "              color='Punxsutawney Phil', \n",
    "              color_discrete_map={'No Shadow':'green','Full Shadow':'red','No Record':'blue'},\n",
    "             category_orders={'Year':sorted(df['Year'].unique())})\n",
    "\n",
    "fig2= px.bar(df, x='Year',y='March Average Temperature',color='Punxsutawney Phil',\n",
    "             color_discrete_map={'No Shadow':'green','Full Shadow':'red','No Record':'blue'},\n",
    "             category_orders={'Year':sorted(df['Year'].unique())})\n",
    "\n",
    "fig1.show()\n",
    "fig2.show()\n"
   ]
  },
  {
   "cell_type": "code",
   "execution_count": null,
   "id": "b856d3d2-69e3-42e5-ab36-b49c11e311b4",
   "metadata": {},
   "outputs": [],
   "source": [
    "fig1=  px.bar(df, x='Year',y='February Average Temperature',\n",
    "              color='Punxsutawney Phil', \n",
    "              color_discrete_map={'No Shadow':'green','Full Shadow':'red','No Record':'blue'},\n",
    "             category_orders={'Year':sorted(df['Year'].unique())})\n",
    "\n",
    "fig2= px.bar(df, x='Year',y='March Average Temperature',color='Punxsutawney Phil',\n",
    "             color_discrete_map={'No Shadow':'green','Full Shadow':'red','No Record':'blue'},\n",
    "             category_orders={'Year':sorted(df['Year'].unique())})\n",
    "\n",
    "fig1.update_layout(\n",
    "    title ='Groundhog Feb',\n",
    "    yaxis_title='Average temp',\n",
    "    xaxis_title='Year'\n",
    ")\n",
    "\n",
    "fig2.update_layout(\n",
    "    title='Groundhog Mar',\n",
    "    yaxis_title='Average temp',\n",
    "    xaxis_title='Year'\n",
    ")\n",
    "\n",
    "config= {'scrollZoom':True}\n",
    "\n",
    "fig1.show()\n",
    "fig2.show()\n"
   ]
  },
  {
   "cell_type": "code",
   "execution_count": null,
   "id": "057e1d3c-79b6-456e-9083-8cce51362927",
   "metadata": {},
   "outputs": [],
   "source": [
    "fig1=  px.scatter(df, x='Year',y='February Average Temperature',\n",
    "              color='Punxsutawney Phil', \n",
    "              color_discrete_map={'No Shadow':'green','Full Shadow':'red','No Record':'blue'},\n",
    "             category_orders={'Year':sorted(df['Year'].unique())})\n",
    "\n",
    "fig2= px.scatter(df, x='Year',y='March Average Temperature',color='Punxsutawney Phil',\n",
    "             color_discrete_map={'No Shadow':'green','Full Shadow':'red','No Record':'blue'},\n",
    "             category_orders={'Year':sorted(df['Year'].unique())})\n",
    "\n",
    "fig1.update_layout(\n",
    "    title ='Groundhog Feb',\n",
    "    yaxis_title='Average temp',\n",
    "    xaxis_title='Year'\n",
    ")\n",
    "\n",
    "fig2.update_layout(\n",
    "    title='Groundhog Mar',\n",
    "    yaxis_title='Average temp',\n",
    "    xaxis_title='Year'\n",
    ")\n",
    "\n",
    "config= {'scrollZoom':True}\n",
    "\n",
    "fig1.show()\n",
    "fig2.show()\n"
   ]
  },
  {
   "cell_type": "code",
   "execution_count": null,
   "id": "9cd28763-362c-4a42-bde1-8e3018700e0e",
   "metadata": {},
   "outputs": [],
   "source": [
    "fig1=  px.bar(df, x='Year',y='February Average Temperature',\n",
    "              color='Punxsutawney Phil', \n",
    "              color_discrete_map={'No Shadow':'green','Full Shadow':'red','No Record':'blue'},\n",
    "             category_orders={'Year':sorted(df['Year'].unique())})\n",
    "\n",
    "fig2= px.bar(df, x='Year',y='March Average Temperature',color='Punxsutawney Phil',\n",
    "             color_discrete_map={'No Shadow':'green','Full Shadow':'red','No Record':'blue'},\n",
    "             category_orders={'Year':sorted(df['Year'].unique())})\n",
    "\n",
    "fig1.update_layout(\n",
    "    title ='Groundhog Feb',\n",
    "    yaxis_title='Average temp',\n",
    "    xaxis_title='Year',\n",
    "    xaxis=dict(range=[100,140]),\n",
    "    yaxis=dict(range=[20,50])\n",
    ")\n",
    "\n",
    "fig2.update_layout(\n",
    "    title='Groundhog Mar',\n",
    "    yaxis_title='Average temp',\n",
    "    xaxis_title='Year'\n",
    ")\n",
    "\n",
    "config= {'scrollZoom':True}\n",
    "\n",
    "fig1.show()\n",
    "fig2.show()\n"
   ]
  },
  {
   "cell_type": "code",
   "execution_count": null,
   "id": "bd32e91f-1e2e-497c-b346-86908a63e0ad",
   "metadata": {},
   "outputs": [],
   "source": [
    "fig1_dict=fig1.to_dict()\n",
    "fig1_dict.keys()"
   ]
  },
  {
   "cell_type": "code",
   "execution_count": null,
   "id": "4fe3c6cf-1bed-4169-8343-89aaa86820ba",
   "metadata": {},
   "outputs": [],
   "source": [
    "fig1_dict['data'][0]['type']='scatter'\n",
    "fig1_dict['data'][0]['type']"
   ]
  },
  {
   "cell_type": "code",
   "execution_count": null,
   "id": "ddcc8737-5fb8-48c6-89e3-9182377ce070",
   "metadata": {},
   "outputs": [],
   "source": [
    "fig1_dict['layout']['xaxis']"
   ]
  },
  {
   "cell_type": "code",
   "execution_count": null,
   "id": "84bd0fef-664c-43e7-8117-826131914cc5",
   "metadata": {},
   "outputs": [],
   "source": [
    "df.dtypes"
   ]
  },
  {
   "cell_type": "code",
   "execution_count": null,
   "id": "08fad6b6-8b88-4ff4-8dea-d8354badde41",
   "metadata": {},
   "outputs": [],
   "source": [
    "df[df['Year']=='1901-2000'] "
   ]
  },
  {
   "cell_type": "code",
   "execution_count": null,
   "id": "785100af-39eb-4673-a690-3773d19d36b7",
   "metadata": {},
   "outputs": [],
   "source": [
    "dfs=df[df['Year'] !='1901-2000']"
   ]
  },
  {
   "cell_type": "code",
   "execution_count": null,
   "id": "1fa0acae-67a7-454c-bf1a-bf25d4c7902c",
   "metadata": {},
   "outputs": [],
   "source": [
    "dfs.shape"
   ]
  },
  {
   "cell_type": "code",
   "execution_count": null,
   "id": "784a9238-3f86-47d8-be0e-4d5d1c2ad6e3",
   "metadata": {},
   "outputs": [],
   "source": [
    "dfs[\"Year_int\"] = dfs[\"Year\"].astype(\"int\")"
   ]
  },
  {
   "cell_type": "code",
   "execution_count": null,
   "id": "f76d5343-4f4c-4f6c-8edd-49caa6709147",
   "metadata": {},
   "outputs": [],
   "source": [
    "dfs['Year_int'][0:10]"
   ]
  },
  {
   "cell_type": "code",
   "execution_count": null,
   "id": "b600dae3-6d00-4590-9dcd-fb971ff79065",
   "metadata": {},
   "outputs": [],
   "source": [
    "fig15=px.histogram(df,x='Punxsutawney Phil')\n",
    "fig15.show()"
   ]
  },
  {
   "cell_type": "code",
   "execution_count": null,
   "id": "e9771090-9bae-4dd1-bece-ad59c92c4921",
   "metadata": {},
   "outputs": [],
   "source": [
    "fig16=px.strip(dfs, x='February Average Temperature',y='Punxsutawney Phil')\n",
    "fig16.show()"
   ]
  },
  {
   "cell_type": "code",
   "execution_count": null,
   "id": "40d31191-3088-4704-b6b8-9fd01b1a2233",
   "metadata": {},
   "outputs": [],
   "source": [
    "fig17=px.box(dfs,x='Punxsutawney Phil',y='February Average Temperature')\n",
    "fig17.show()"
   ]
  },
  {
   "cell_type": "code",
   "execution_count": null,
   "id": "ac9f6e9c-b3e7-43e6-af20-823b047bd7cc",
   "metadata": {},
   "outputs": [],
   "source": [
    "fig18= px.pie(df, values='February Average Temperature', names='Punxsutawney Phil')\n",
    "fig18.show()"
   ]
  },
  {
   "cell_type": "code",
   "execution_count": null,
   "id": "50e613ba-7415-455d-8c61-a4a9dd2e954f",
   "metadata": {},
   "outputs": [],
   "source": [
    "fig = px.density_heatmap(df, x=\"Punxsutawney Phil\", y=\"February Average Temperature\")\n",
    "fig.show()"
   ]
  }
 ],
 "metadata": {
  "kernelspec": {
   "display_name": "Python 3 (ipykernel)",
   "language": "python",
   "name": "python3"
  },
  "language_info": {
   "codemirror_mode": {
    "name": "ipython",
    "version": 3
   },
   "file_extension": ".py",
   "mimetype": "text/x-python",
   "name": "python",
   "nbconvert_exporter": "python",
   "pygments_lexer": "ipython3",
   "version": "3.12.8"
  }
 },
 "nbformat": 4,
 "nbformat_minor": 5
}
