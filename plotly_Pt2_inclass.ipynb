{
 "cells": [
  {
   "cell_type": "code",
   "execution_count": null,
   "id": "b5dcef94-b6c3-4f17-bb08-40d2a9d1cf6f",
   "metadata": {},
   "outputs": [],
   "source": [
    "import pandas as pd\n",
    "import plotly.graph_objects as go"
   ]
  },
  {
   "cell_type": "code",
   "execution_count": null,
   "id": "7ee079e8-37ac-4a3e-bb44-f3a0706fdcae",
   "metadata": {},
   "outputs": [],
   "source": [
    "meteor=pd.read_csv('Meteorite_Landings_Sample.csv')\n",
    "meteor.head()"
   ]
  },
  {
   "cell_type": "code",
   "execution_count": null,
   "id": "0b4c3755-3dfb-4bfe-bffc-06f9b6513069",
   "metadata": {},
   "outputs": [],
   "source": [
    "meteor.index"
   ]
  },
  {
   "cell_type": "code",
   "execution_count": null,
   "id": "5e83f957-5d29-43c4-b77b-54a9ab418a80",
   "metadata": {},
   "outputs": [],
   "source": [
    "fig1=go.Figure(data=go.Scattergeo(\n",
    "    lon=meteor['reclong'],\n",
    "    lat=meteor['reclat'],\n",
    "    mode='markers',\n",
    "))\n",
    "\n",
    "fig1.update_layout(\n",
    "    title='Meteorite Landings',\n",
    "    geo_scope='world',\n",
    ")\n",
    "fig1.show()"
   ]
  },
  {
   "cell_type": "code",
   "execution_count": null,
   "id": "8e94e691-aa91-4c4e-b6d6-596c61b239c1",
   "metadata": {},
   "outputs": [],
   "source": [
    "fig2=go.Figure(data=go.Scattergeo(\n",
    "    lon=meteor['reclong'],\n",
    "    lat=meteor['reclat'],\n",
    "    mode='markers',\n",
    "    marker=dict(\n",
    "        size=8,\n",
    "        opacity=0.8,\n",
    "        symbol='star-diamond',\n",
    "        color='red'\n",
    "    )\n",
    "))\n",
    "fig2.update_geos(projection_type='equirectangular')\n",
    "\n",
    "fig2.update_layout(\n",
    "    title='Meteorite Landings',\n",
    "    geo_scope='world',\n",
    ")\n",
    "fig2.show()"
   ]
  },
  {
   "cell_type": "code",
   "execution_count": null,
   "id": "c2dae36d-fff7-4c03-bffd-d1e1d96b9b6c",
   "metadata": {},
   "outputs": [],
   "source": [
    "fig3=go.Figure(data=go.Scattergeo(\n",
    "    lon=meteor['reclong'],\n",
    "    lat=meteor['reclat'],\n",
    "    mode='markers',\n",
    "    marker=dict(\n",
    "        size=8,\n",
    "        opacity=0.8,\n",
    "        reversescale=True,\n",
    "        autocolorscale=False,\n",
    "        colorscale='electric',\n",
    "        symbol='circle',\n",
    "        color=meteor['mass (g)'],\n",
    "        colorbar=dict(\n",
    "            title=dict(\n",
    "                text='Meteorite Mass (g)'\n",
    "            )\n",
    "        )\n",
    "    )\n",
    "))\n",
    "fig3.update_geos(\n",
    "    projection_type='equirectangular',\n",
    "    showland=True,landcolor='green',\n",
    "    showocean=True,oceancolor='blue',\n",
    "    showlakes=True,lakecolor='white',\n",
    "    showrivers=True,rivercolor='lightblue'\n",
    ")\n",
    "\n",
    "fig3.update_layout(\n",
    "    title='Meteorite Landings',\n",
    "    geo_scope='world',\n",
    ")\n",
    "fig3.show()"
   ]
  },
  {
   "cell_type": "code",
   "execution_count": null,
   "id": "04dcff9b-b85c-4f00-b08f-999c531eb7ef",
   "metadata": {},
   "outputs": [],
   "source": [
    "fig4=go.Figure(data=go.Scattergeo(\n",
    "    lon=meteor['reclong'],\n",
    "    lat=meteor['reclat'],\n",
    "    mode='markers',\n",
    "    marker=dict(\n",
    "        size=8,\n",
    "        opacity=0.8,\n",
    "        reversescale=True,\n",
    "        autocolorscale=False,\n",
    "        colorscale='electric',\n",
    "        symbol='circle',\n",
    "        color=meteor['mass (g)'],\n",
    "        colorbar=dict(\n",
    "            title=dict(\n",
    "                text='Meteorite Mass (g)'\n",
    "            )\n",
    "        )\n",
    "    )\n",
    "))\n",
    "fig4.update_geos(\n",
    "    projection_type='natural earth',\n",
    "    showland=True,landcolor='green',\n",
    "    showocean=True,oceancolor='blue',\n",
    "    showlakes=True,lakecolor='white',\n",
    "    showrivers=True,rivercolor='lightblue'\n",
    ")\n",
    "\n",
    "fig4.update_layout(\n",
    "    title='Meteorite Landings',\n",
    "    geo_scope='world',\n",
    ")\n",
    "fig4.show()"
   ]
  },
  {
   "cell_type": "code",
   "execution_count": null,
   "id": "291edf7b-94e6-43d4-8d4e-ac874de839e9",
   "metadata": {},
   "outputs": [],
   "source": [
    "fig5 = go.Figure()\n",
    "\n",
    "fig5.add_trace(\n",
    "    go.Scattergeo(\n",
    "    lon=meteor['reclong'],\n",
    "    lat=meteor['reclat'],\n",
    "    mode='markers',\n",
    "    marker=dict(\n",
    "        size=8,\n",
    "        opacity=0.8,\n",
    "        reversescale=True,\n",
    "        autocolorscale=False,\n",
    "        colorscale='electric',\n",
    "        symbol='circle',\n",
    "        color=meteor['mass (g)'],\n",
    "        colorbar=dict(\n",
    "            title=dict(\n",
    "                text='Meteorite Mass (g)'\n",
    "            )\n",
    "        )\n",
    "    )\n",
    "))\n",
    "\n",
    "fig5.update_geos(\n",
    "    projection_type='equirectangular',\n",
    "    showland=True,landcolor='green',\n",
    "    showocean=True,oceancolor='blue',\n",
    "    showlakes=True,lakecolor='white',\n",
    "    showrivers=True,rivercolor='lightblue'\n",
    ")\n",
    "\n",
    "button1={\n",
    "    'args':[{'geo':{'projection':{'type':'equirectangular'}}}],\n",
    "    'label':'Map',\n",
    "    'method':'relayout'\n",
    "}\n",
    "button2={\n",
    "    'args':[{'geo':{'projection':{'type':'orthographic'}}}],\n",
    "    'label':'Globe',\n",
    "    'method':'relayout'\n",
    "}\n",
    "fig5.update_layout(\n",
    "    title='Meteorite Landings',\n",
    "    geo_scope='world',\n",
    "    updatemenus=[\n",
    "        dict(\n",
    "            buttons=[button1,button2],\n",
    "            direction='down',\n",
    "            x=0.1,\n",
    "            xanchor='left',\n",
    "            y=1.1,\n",
    "            yanchor='top'\n",
    "        )\n",
    "    ]\n",
    ")\n",
    "fig5.show()\n"
   ]
  },
  {
   "cell_type": "code",
   "execution_count": null,
   "id": "967b1093-fd31-495a-8e73-19689485e32c",
   "metadata": {},
   "outputs": [],
   "source": [
    "meteor.columns=[col.replace('mass (g)','mass')for col in meteor.columns]\n",
    "fig6=go.Figure()\n",
    "\n",
    "fig6.add_trace(\n",
    "    go.Bar(\n",
    "        x=meteor.year,y=meteor.mass\n",
    "    )\n",
    ")\n",
    "fig6.update_layout(\n",
    "    title_text='Meteors Mass by Year'\n",
    ")\n",
    "fig6.show()"
   ]
  },
  {
   "cell_type": "code",
   "execution_count": null,
   "id": "dedbf3be-1a7f-4f4d-87d0-df7f762584ec",
   "metadata": {},
   "outputs": [],
   "source": [
    "fig6=go.Figure()\n",
    "\n",
    "fig6.add_trace(\n",
    "    go.Bar(\n",
    "        x=meteor.year,y=meteor.mass\n",
    "    )\n",
    ")\n",
    "fig6.update_layout(\n",
    "    title_text='Meteors Mass by Year'\n",
    ")\n",
    "fig6.update_layout(\n",
    "    xaxis=dict(\n",
    "        rangeslider=dict(\n",
    "            visible=True\n",
    "        ),\n",
    "        type='date'\n",
    "    )\n",
    ")\n",
    "fig6.show()"
   ]
  },
  {
   "cell_type": "code",
   "execution_count": null,
   "id": "f4569789-cf06-49a9-97ff-b0e31fd587a8",
   "metadata": {},
   "outputs": [],
   "source": [
    "list(meteor['recclass'].unique())"
   ]
  },
  {
   "cell_type": "code",
   "execution_count": null,
   "id": "6ca46955-6bf9-4e96-88d3-8014b5f5176a",
   "metadata": {},
   "outputs": [],
   "source": [
    "re_list=list(meteor['recclass'].unique())\n",
    "re_list"
   ]
  },
  {
   "cell_type": "code",
   "execution_count": null,
   "id": "8b3a6643-7ef1-46b1-9066-76600301fd2f",
   "metadata": {},
   "outputs": [],
   "source": [
    "meteor[meteor['recclass']=='L5']['mass']"
   ]
  },
  {
   "cell_type": "code",
   "execution_count": null,
   "id": "a75f857b-b8fb-423d-98b2-6b9c02e95f06",
   "metadata": {},
   "outputs": [],
   "source": [
    "fig8=go.Figure()\n",
    "re_list_buttons=[]\n",
    "falses=[False]*len(re_list)\n",
    "\n",
    "for i in range(0,len(re_list)):\n",
    "    fig8.add_traces([go.Box(y=meteor[meteor['recclass']==str(re_list[i])]['log_mass'],name=str(re_list[i]))])\n",
    "    new_falses=falses.copy()\n",
    "    new_falses.insert(i,True)\n",
    "    re_list_buttons.append({'label':str(re_list[i]),\n",
    "                            'method':'restyle',\n",
    "                            'args':[{'visible':new_falses}]})\n",
    "\n",
    "show_all_button= {'label':'Show All',\n",
    "                  'method':'restyle',\n",
    "                  'args':[{'visible':[True]}]}\n",
    "            \n",
    "\n",
    "fig8.update_layout(updatemenus=[{'type':'dropdown',\n",
    "                                'direction':'right',\n",
    "                                'buttons':re_list_buttons}])\n",
    "\n",
    "\n",
    "fig8.show()"
   ]
  },
  {
   "cell_type": "code",
   "execution_count": null,
   "id": "21dee3ca-cccd-45fc-8092-6b3983f35c4c",
   "metadata": {},
   "outputs": [],
   "source": [
    "re_list=list(cat_count[cat_count[cat_count>2].index)"
   ]
  },
  {
   "cell_type": "code",
   "execution_count": null,
   "id": "5961fd42-79e3-47b8-b104-097f81e0a394",
   "metadata": {},
   "outputs": [],
   "source": [
    "meteor[meteor['recclass'].isin()]"
   ]
  },
  {
   "cell_type": "code",
   "execution_count": null,
   "id": "70ac8c6e-397c-4d32-a05e-1727849d438d",
   "metadata": {},
   "outputs": [],
   "source": [
    "import numpy as np"
   ]
  },
  {
   "cell_type": "code",
   "execution_count": null,
   "id": "7e7dc377-d286-4a2b-83e1-fa17d43388e0",
   "metadata": {},
   "outputs": [],
   "source": [
    "meteor['log_mass']=meteor['mass'].apply(np.log)\n",
    "meteor['log_mass']"
   ]
  },
  {
   "cell_type": "code",
   "execution_count": null,
   "id": "30062617-b41e-4b07-ab6c-7dec6451f166",
   "metadata": {},
   "outputs": [],
   "source": [
    "import plotly.express as px"
   ]
  },
  {
   "cell_type": "code",
   "execution_count": null,
   "id": "4c76e0c1-1d60-4d2c-8a2f-f7da8cb31e62",
   "metadata": {},
   "outputs": [],
   "source": [
    "fig8=go.Figure()\n",
    "re_list_buttons=[]\n",
    "falses=[False]*len(re_list)\n",
    "\n",
    "for i in range(0,len(re_list)):\n",
    "fig8.add_traces([go.Box(y=meteor[meteor['recclass']==str(re_list[i])]['log_mass'],name=str(re_list[i]),marker=pmy)])\n",
    "    new_falses=falses.copy()\n",
    "    new_falses.insert(i,True)\n",
    "    re_list_buttons.append({'label':str(re_list[i]),\n",
    "                            'method':'restyle',\n",
    "                            'args':[{'visible':new_falses}]})\n",
    "\n",
    "show_all_button= {'label':'Show All',\n",
    "                  'method':'restyle',\n",
    "                  'args':[{'visible':[True]}]}\n",
    "            \n",
    "\n",
    "fig8.update_layout(updatemenus=[{'type':'dropdown',\n",
    "                                'direction':'right',\n",
    "                                'buttons':re_list_buttons}])\n",
    "\n",
    "\n",
    "fig8.show()"
   ]
  }
 ],
 "metadata": {
  "kernelspec": {
   "display_name": "Python 3 (ipykernel)",
   "language": "python",
   "name": "python3"
  },
  "language_info": {
   "codemirror_mode": {
    "name": "ipython",
    "version": 3
   },
   "file_extension": ".py",
   "mimetype": "text/x-python",
   "name": "python",
   "nbconvert_exporter": "python",
   "pygments_lexer": "ipython3",
   "version": "3.12.8"
  }
 },
 "nbformat": 4,
 "nbformat_minor": 5
}
