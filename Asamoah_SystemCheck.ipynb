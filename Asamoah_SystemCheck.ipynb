{
 "cells": [
  {
   "cell_type": "markdown",
   "id": "ec1816bb-9bd7-4a98-831d-fee8e859cc60",
   "metadata": {},
   "source": [
    "# My goals for this class"
   ]
  },
  {
   "cell_type": "markdown",
   "id": "4816aff9-358b-4f6a-9361-dc4eb6412944",
   "metadata": {},
   "source": [
    "## What i want to get out of this class "
   ]
  },
  {
   "cell_type": "markdown",
   "id": "30b43fec-2e85-41a2-b3da-4802131047a1",
   "metadata": {},
   "source": [
    " - **Basic knowledge in practical tools and software**\n",
    " - *Learn how to present data through visualization and interperate easier*"
   ]
  },
  {
   "cell_type": "markdown",
   "id": "5c751efb-d8f3-4ef8-9b1a-18979f7c0b1c",
   "metadata": {},
   "source": [
    "![image](https://thumbs.dreamstime.com/z/can-will-determination-ability-success-determination-ability-intelligence-training-will-can-do-positive-attitude-mindset-132882567.jpg?ct=jpeg)"
   ]
  },
  {
   "cell_type": "code",
   "execution_count": 3,
   "id": "81107a6c-c889-4681-a177-983254a341af",
   "metadata": {},
   "outputs": [],
   "source": [
    "y=7\n",
    "x=5+y\n"
   ]
  },
  {
   "cell_type": "code",
   "execution_count": 4,
   "id": "4736fa0d-f3c0-4996-89ec-833bc7955284",
   "metadata": {},
   "outputs": [
    {
     "data": {
      "text/plain": [
       "12"
      ]
     },
     "execution_count": 4,
     "metadata": {},
     "output_type": "execute_result"
    }
   ],
   "source": [
    "x"
   ]
  },
  {
   "cell_type": "code",
   "execution_count": 5,
   "id": "6fc85ded-0e1c-4cb1-a264-1573e54bd0ab",
   "metadata": {},
   "outputs": [
    {
     "name": "stdout",
     "output_type": "stream",
     "text": [
      "N\n",
      "A\n",
      "N\n",
      "A\n"
     ]
    }
   ],
   "source": [
    "for t in 'NANA':\n",
    "    print(t)"
   ]
  },
  {
   "cell_type": "code",
   "execution_count": 68,
   "id": "9d71c7b3-2f30-41d9-8b0c-2ffdf2b5700d",
   "metadata": {},
   "outputs": [
    {
     "name": "stdout",
     "output_type": "stream",
     "text": [
      "total is: 21 dollars\n"
     ]
    }
   ],
   "source": [
    "def milk(quantity, fixed): \n",
    "    total= quantity * fixed\n",
    "    return total\n",
    "order = milk(7,3)\n",
    "print(f\"total is: {order} dollars\")\n",
    "    \n",
    "    \n",
    "    \n",
    "    \n",
    " \n"
   ]
  },
  {
   "cell_type": "code",
   "execution_count": null,
   "id": "6927954d-6783-4102-9972-061f77de7944",
   "metadata": {},
   "outputs": [],
   "source": []
  }
 ],
 "metadata": {
  "kernelspec": {
   "display_name": "Python 3 (ipykernel)",
   "language": "python",
   "name": "python3"
  },
  "language_info": {
   "codemirror_mode": {
    "name": "ipython",
    "version": 3
   },
   "file_extension": ".py",
   "mimetype": "text/x-python",
   "name": "python",
   "nbconvert_exporter": "python",
   "pygments_lexer": "ipython3",
   "version": "3.12.8"
  }
 },
 "nbformat": 4,
 "nbformat_minor": 5
}
